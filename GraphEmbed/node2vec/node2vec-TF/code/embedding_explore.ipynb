{
 "cells": [
  {
   "cell_type": "code",
   "execution_count": 69,
   "metadata": {
    "collapsed": true
   },
   "outputs": [],
   "source": [
    "%matplotlib inline\n",
    "import numpy as np\n",
    "import json"
   ]
  },
  {
   "cell_type": "code",
   "execution_count": 70,
   "metadata": {
    "collapsed": true
   },
   "outputs": [],
   "source": [
    "#ref http://stackoverflow.com/questions/8955448/save-load-scipy-sparse-csr-matrix-in-portable-data-format\n",
    "def save_sparse_csr(filename,array):\n",
    "    np.savez(filename,data = array.data ,indices=array.indices,\n",
    "             indptr =array.indptr, shape=array.shape )\n",
    "\n",
    "def load_sparse_csr(filename):\n",
    "    loader = np.load(filename)\n",
    "    return csr_matrix((  loader['data'], loader['indices'], loader['indptr']),shape = loader['shape'])"
   ]
  },
  {
   "cell_type": "code",
   "execution_count": 71,
   "metadata": {
    "collapsed": false
   },
   "outputs": [],
   "source": [
    "co_author_matrix=load_sparse_csr(\"../data/co-author-matrix.npz\")\n",
    "with open('../data/co-author-index.json', 'r') as f:\n",
    "    aid2aname=json.load(f)\n",
    "aid2aname=dict((int(k), v) for k, v in aid2aname.iteritems())"
   ]
  },
  {
   "cell_type": "code",
   "execution_count": 77,
   "metadata": {
    "collapsed": true
   },
   "outputs": [],
   "source": [
    "from sklearn.preprocessing import normalize\n",
    "\n",
    "\n",
    "def top_k(C,c_id,cid2cname,topk=5):\n",
    "    C_norm = normalize(C)\n",
    "    c_vec=C_norm[c_id]\n",
    "    sim = np.dot(C_norm,c_vec)\n",
    "    nearest = (-sim).argsort()[1:topk+1]\n",
    "    results=[(cid2cname[nearest[k]],sim[nearest[k]]) for k in xrange(topk)]\n",
    "    return results\n",
    "\n",
    "def top_k_vec(C,vec,cid2cname,topk=5):\n",
    "    C_norm=normalize(C)\n",
    "    vec_norm=vec/np.linalg.norm(vec)\n",
    "    sim = np.dot(C_norm,vec_norm)\n",
    "    nearest = (-sim).argsort()[0:topk]\n",
    "    results=[(cid2cname[nearest[k]],sim[nearest[k]]) for k in xrange(topk)]\n",
    "    return results\n",
    "\n",
    "def print_top(results):\n",
    "    for pair in results:\n",
    "        print pair[0],pair[1]"
   ]
  },
  {
   "cell_type": "code",
   "execution_count": 80,
   "metadata": {
    "collapsed": true
   },
   "outputs": [],
   "source": [
    "np_node_embeddings=np.load('../results/node_embeddings.npz')['arr_0']"
   ]
  },
  {
   "cell_type": "code",
   "execution_count": 81,
   "metadata": {
    "collapsed": false
   },
   "outputs": [
    {
     "name": "stdout",
     "output_type": "stream",
     "text": [
      "jure leskovec\n",
      "julian mcauley 0.459304\n",
      "jon kleinberg 0.438476\n",
      "jaewon yang 0.423793\n",
      "cristian danescuniculescumizil 0.359046\n",
      "caroline suen 0.358588\n"
     ]
    }
   ],
   "source": [
    "print aid2aname[10937]\n",
    "print_top(top_k(np_node_embeddings,10937,aid2aname))"
   ]
  },
  {
   "cell_type": "code",
   "execution_count": 82,
   "metadata": {
    "collapsed": false
   },
   "outputs": [
    {
     "name": "stdout",
     "output_type": "stream",
     "text": [
      "ying ding\n",
      "xin shuai 0.438184\n",
      "jie tang 0.424988\n",
      "jerome r busemeyer 0.395817\n",
      "martin klein 0.377127\n",
      "herbert van de sompel 0.355121\n"
     ]
    }
   ],
   "source": [
    "print aid2aname[52753]\n",
    "print_top(top_k(np_node_embeddings,52753,aid2aname))"
   ]
  },
  {
   "cell_type": "code",
   "execution_count": 76,
   "metadata": {
    "collapsed": false
   },
   "outputs": [
    {
     "ename": "NameError",
     "evalue": "global name 'normalize' is not defined",
     "output_type": "error",
     "traceback": [
      "\u001b[1;31m---------------------------------------------------------------------------\u001b[0m",
      "\u001b[1;31mNameError\u001b[0m                                 Traceback (most recent call last)",
      "\u001b[1;32m<ipython-input-76-94b53cd0455c>\u001b[0m in \u001b[0;36m<module>\u001b[1;34m()\u001b[0m\n\u001b[0;32m      1\u001b[0m \u001b[0mtop_k_vec\u001b[0m\u001b[1;33m\u001b[0m\u001b[0m\n\u001b[1;32m----> 2\u001b[1;33m \u001b[0mprint_top\u001b[0m\u001b[1;33m(\u001b[0m\u001b[0mtop_k_vec\u001b[0m\u001b[1;33m(\u001b[0m\u001b[0mnp_node_embeddings\u001b[0m\u001b[1;33m,\u001b[0m\u001b[0mnp_node_embeddings\u001b[0m\u001b[1;33m[\u001b[0m\u001b[1;36m52753\u001b[0m\u001b[1;33m]\u001b[0m\u001b[1;33m,\u001b[0m\u001b[0maid2aname\u001b[0m\u001b[1;33m)\u001b[0m\u001b[1;33m)\u001b[0m\u001b[1;33m\u001b[0m\u001b[0m\n\u001b[0m",
      "\u001b[1;32m<ipython-input-66-3dfb18cd73a1>\u001b[0m in \u001b[0;36mtop_k_vec\u001b[1;34m(C, vec, cid2cname, topk)\u001b[0m\n\u001b[0;32m      9\u001b[0m \u001b[1;33m\u001b[0m\u001b[0m\n\u001b[0;32m     10\u001b[0m \u001b[1;32mdef\u001b[0m \u001b[0mtop_k_vec\u001b[0m\u001b[1;33m(\u001b[0m\u001b[0mC\u001b[0m\u001b[1;33m,\u001b[0m\u001b[0mvec\u001b[0m\u001b[1;33m,\u001b[0m\u001b[0mcid2cname\u001b[0m\u001b[1;33m,\u001b[0m\u001b[0mtopk\u001b[0m\u001b[1;33m=\u001b[0m\u001b[1;36m5\u001b[0m\u001b[1;33m)\u001b[0m\u001b[1;33m:\u001b[0m\u001b[1;33m\u001b[0m\u001b[0m\n\u001b[1;32m---> 11\u001b[1;33m     \u001b[0mC_norm\u001b[0m\u001b[1;33m=\u001b[0m\u001b[0mnormalize\u001b[0m\u001b[1;33m(\u001b[0m\u001b[0mC\u001b[0m\u001b[1;33m)\u001b[0m\u001b[1;33m\u001b[0m\u001b[0m\n\u001b[0m\u001b[0;32m     12\u001b[0m     \u001b[0mvec_norm\u001b[0m\u001b[1;33m=\u001b[0m\u001b[0mvec\u001b[0m\u001b[1;33m/\u001b[0m\u001b[0mnp\u001b[0m\u001b[1;33m.\u001b[0m\u001b[0mlinalg\u001b[0m\u001b[1;33m.\u001b[0m\u001b[0mnorm\u001b[0m\u001b[1;33m(\u001b[0m\u001b[0mvec\u001b[0m\u001b[1;33m)\u001b[0m\u001b[1;33m\u001b[0m\u001b[0m\n\u001b[0;32m     13\u001b[0m     \u001b[0msim\u001b[0m \u001b[1;33m=\u001b[0m \u001b[0mnp\u001b[0m\u001b[1;33m.\u001b[0m\u001b[0mdot\u001b[0m\u001b[1;33m(\u001b[0m\u001b[0mC_norm\u001b[0m\u001b[1;33m,\u001b[0m\u001b[0mvec_norm\u001b[0m\u001b[1;33m)\u001b[0m\u001b[1;33m\u001b[0m\u001b[0m\n",
      "\u001b[1;31mNameError\u001b[0m: global name 'normalize' is not defined"
     ]
    }
   ],
   "source": [
    "top_k_vec\n",
    "print_top(top_k_vec(np_node_embeddings,np_node_embeddings[52753],aid2aname))"
   ]
  },
  {
   "cell_type": "code",
   "execution_count": null,
   "metadata": {
    "collapsed": true
   },
   "outputs": [],
   "source": [
    "#If you want to restore from ckpt files, this might be helpful....\n",
    "\n",
    "\n",
    "# from gensim import corpora\n",
    "# import numpy as np\n",
    "# import unicodecsv as csv\n",
    "# import tensorflow as tf\n",
    "# import math\n",
    "# import os,sys\n",
    "# import random\n",
    "# from scipy.sparse import csr_matrix\n",
    "# from tqdm import tqdm\n",
    "# import json\n",
    "\n",
    "# #Computational Graph Definition\n",
    "# tf.reset_default_graph()#remove this if not ipython notebook\n",
    "\n",
    "# num_nodes=adj_mat_csr_sparse.shape[0]\n",
    "# context_size=16\n",
    "# batch_size = None\n",
    "# embedding_size = 200 # Dimension of the embedding vector.\n",
    "# num_sampled = 64 # Number of negative examples to sample.\n",
    "\n",
    "# global_step = tf.Variable(0, name='global_step', trainable=False)\n",
    "\n",
    "# # Parameters to learn\n",
    "# node_embeddings = tf.Variable(tf.random_uniform([num_nodes, embedding_size], -1.0, 1.0))\n",
    "\n",
    "# #Fixedones\n",
    "# biases=tf.zeros([num_nodes])\n",
    "\n",
    "# # Input data and re-orgenize size.\n",
    "# with tf.name_scope(\"context_node\") as scope:\n",
    "#     #context nodes to each input node in the batch (e.g [[1,2],[4,6],[5,7]] where batch_size = 3,context_size=3)\n",
    "#     train_context_node= tf.placeholder(tf.int32, shape=[batch_size,context_size],name=\"context_node\")\n",
    "#     #orgenize prediction labels (skip-gram model predicts context nodes (i.e labels) given a input node)\n",
    "#     #i.e make [[1,2,4,6,5,7]] given context above. The redundant dimention is just for restriction on tensorflow API.\n",
    "#     train_context_node_flat=tf.reshape(train_context_node,[-1,1])\n",
    "# with tf.name_scope(\"input_node\") as scope:\n",
    "#     #batch input node to the network(e.g [2,1,3] where batch_size = 3)\n",
    "#     train_input_node= tf.placeholder(tf.int32, shape=[batch_size],name=\"input_node\")\n",
    "#     #orgenize input as flat. i.e we want to make [2,2,2,1,1,1,3,3,3] given the  input nodes above\n",
    "#     input_ones=tf.ones_like(train_context_node)\n",
    "#     train_input_node_flat=tf.reshape(tf.mul(input_ones,tf.reshape(train_input_node,[-1,1])),[-1])\n",
    "\n",
    "# # Model.\n",
    "# with tf.name_scope(\"loss\") as scope:\n",
    "#     # Look up embeddings for words.\n",
    "#     node_embed = tf.nn.embedding_lookup(node_embeddings, train_input_node_flat)\n",
    "#     # Compute the softmax loss, using a sample of the negative labels each time.\n",
    "#     loss_node2vec = tf.reduce_mean(tf.nn.sampled_softmax_loss(node_embeddings,biases,node_embed,train_context_node_flat, num_sampled, num_nodes))\n",
    "#     loss_node2vec_summary = tf.scalar_summary(\"loss_node2vec\", loss_node2vec)\n",
    "\n",
    "# # Initializing the variables\n",
    "# init = tf.initialize_all_variables()\n",
    "\n",
    "# # Add ops to save and restore all the variables.\n",
    "# saver = tf.train.Saver(max_to_keep=20)\n",
    "\n",
    "# merged = tf.merge_all_summaries()\n",
    "\n",
    "# with tf.Session() as sess:\n",
    "#     # Restore variables from disk.\n",
    "#     log_dir=\"../log1/\"\n",
    "#     global_step=30001\n",
    "#     model_path=log_dir+\"model.ckpt-%d\"%global_step\n",
    "#     saver.restore(sess, model_path)\n",
    "#     print(\"Model restored.\")\n",
    "#     node_embeddings_=sess.run(node_embeddings)"
   ]
  }
 ],
 "metadata": {
  "kernelspec": {
   "display_name": "Python 2",
   "language": "python",
   "name": "python2"
  },
  "language_info": {
   "codemirror_mode": {
    "name": "ipython",
    "version": 2
   },
   "file_extension": ".py",
   "mimetype": "text/x-python",
   "name": "python",
   "nbconvert_exporter": "python",
   "pygments_lexer": "ipython2",
   "version": "2.7.11"
  }
 },
 "nbformat": 4,
 "nbformat_minor": 0
}
