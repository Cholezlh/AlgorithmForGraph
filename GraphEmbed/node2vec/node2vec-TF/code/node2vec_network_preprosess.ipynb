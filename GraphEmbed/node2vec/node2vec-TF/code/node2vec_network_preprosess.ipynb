{
 "cells": [
  {
   "cell_type": "code",
   "execution_count": 36,
   "metadata": {
    "collapsed": false
   },
   "outputs": [],
   "source": [
    "from gensim import corpora\n",
    "import numpy as np\n",
    "import unicodecsv as csv\n",
    "import tensorflow as tf\n",
    "import math\n",
    "import os,sys\n",
    "import random\n",
    "from scipy.sparse import csr_matrix\n",
    "from tqdm import tqdm\n",
    "import networkx as nx\n",
    "import json"
   ]
  },
  {
   "cell_type": "code",
   "execution_count": 16,
   "metadata": {
    "collapsed": false
   },
   "outputs": [
    {
     "name": "stdout",
     "output_type": "stream",
     "text": [
      "The number of papers:88675\n",
      "The number of authors:102587\n"
     ]
    }
   ],
   "source": [
    "tsv = csv.reader(file('../data/MajorPapers.txt'), delimiter = '\\t')\n",
    "dbpid2pid={}\n",
    "#pid2dbpid={}\n",
    "#pid2title={}\n",
    "pid=0\n",
    "for row in tsv:\n",
    "    #row[0] pid \n",
    "    #row[1] title\n",
    "    dbpid=row[0]\n",
    "    dbpid2pid[dbpid]=pid\n",
    "    #pid2title[pid]=nltk.word_tokenize(row[1])\n",
    "    pid+=1\n",
    "\n",
    "print \"The number of papers:%d\"%len(dbpid2pid)\n",
    "\n",
    "#authors\n",
    "tsv = csv.reader(file('../data/MajorAuthors.txt'), delimiter = '\\t')\n",
    "dbaid2aid={}\n",
    "aid2aname={}\n",
    "aid=0\n",
    "for row in tsv:\n",
    "    #row[0] dbaid\n",
    "    #row[1] author name\n",
    "    dbaid=row[0]\n",
    "    aname=row[1]\n",
    "    dbaid2aid[dbaid]=aid\n",
    "    aid2aname[aid]=aname\n",
    "    aid+=1\n",
    "\n",
    "#author-paper\n",
    "tsv = csv.reader(file('../data/MajorPaperAuthor.txt'), delimiter = '\\t')\n",
    "aid2pids={}\n",
    "#iitialize aid2pids\n",
    "for aid in aid2aname:\n",
    "    aid2pids[aid]=[]\n",
    "#collect aids\n",
    "for row in tsv:\n",
    "    #row[0] dbpid \n",
    "    #row[1] dbaid\n",
    "    dbpid=row[0]\n",
    "    pid=dbpid2pid[dbpid]\n",
    "    dbaid=row[1]\n",
    "    aid=dbaid2aid[dbaid]\n",
    "    aid2pids[aid].append(pid)\n",
    "\n",
    "author_paper_indices=[]\n",
    "author_paper_values=[]\n",
    "author_paper_shape=(len(aid2aname), len(dbpid2pid))\n",
    "for aid in aid2pids:\n",
    "    for pid in aid2pids[aid]:\n",
    "        author_paper_indices.append([aid,pid])\n",
    "        author_paper_values.append(1)\n",
    "indeces=np.array(author_paper_indices).T\n",
    "author_paper=csr_matrix((author_paper_values, indeces), shape=author_paper_shape, dtype=np.int32)\n",
    "\n",
    "print \"The number of authors:%d\"%author_paper.shape[0]"
   ]
  },
  {
   "cell_type": "code",
   "execution_count": 3,
   "metadata": {
    "collapsed": false
   },
   "outputs": [],
   "source": [
    "co_author_matrix=np.dot(author_paper,author_paper.T)\n",
    "for i in xrange(co_author_matrix.shape[0]):\n",
    "    co_author_matrix[i,i]=0\n",
    "co_author_matrix.eliminate_zeros()"
   ]
  },
  {
   "cell_type": "code",
   "execution_count": 26,
   "metadata": {
    "collapsed": false
   },
   "outputs": [
    {
     "name": "stdout",
     "output_type": "stream",
     "text": [
      "ying ding\n",
      "jie tang\n",
      "0\n",
      "7\n",
      "7\n"
     ]
    }
   ],
   "source": [
    "#print dbaid2aid[\"80CF3CF9\"]Ying\n",
    "print aid2aname[71929]\n",
    "print aid2aname[70282]\n",
    "#print co_author_matrix[71929]\n",
    "print co_author_matrix[70282,70282]\n",
    "print co_author_matrix[71929,70282]\n",
    "print co_author_matrix[70282,71929]"
   ]
  },
  {
   "cell_type": "code",
   "execution_count": 29,
   "metadata": {
    "collapsed": false
   },
   "outputs": [],
   "source": [
    "G = nx.from_scipy_sparse_matrix(co_author_matrix)\n",
    "G_max=max(nx.connected_component_subgraphs(G), key=len)\n",
    "new_co_author_matrix=nx.adjacency_matrix(G_max)"
   ]
  },
  {
   "cell_type": "code",
   "execution_count": 31,
   "metadata": {
    "collapsed": false
   },
   "outputs": [],
   "source": [
    "new_aid2old_aid={}\n",
    "new_aid2name={}\n",
    "for new_aid,old_aid in enumerate(G_max.nodes()):#aidがそのまま残っている。インデックスとしてはバラバラ\n",
    "    new_aid2old_aid[new_aid]=old_aid\n",
    "    new_aid2name[new_aid]=aid2aname[old_aid]"
   ]
  },
  {
   "cell_type": "code",
   "execution_count": 43,
   "metadata": {
    "collapsed": false
   },
   "outputs": [],
   "source": [
    "new_aid2dabid={}\n",
    "aid2dbaid=dict((v, k) for k, v in dbaid2aid.iteritems())\n",
    "for new_aid,old_aid in new_aid2old_aid.iteritems():\n",
    "    dbaid=aid2dbaid[old_aid]\n",
    "    new_aid2dabid[new_aid]=dbaid"
   ]
  },
  {
   "cell_type": "code",
   "execution_count": 38,
   "metadata": {
    "collapsed": true
   },
   "outputs": [],
   "source": [
    "#ref http://stackoverflow.com/questions/8955448/save-load-scipy-sparse-csr-matrix-in-portable-data-format\n",
    "\n",
    "def save_sparse_csr(filename,array):\n",
    "    np.savez(filename,data = array.data ,indices=array.indices,\n",
    "             indptr =array.indptr, shape=array.shape )\n",
    "\n",
    "def load_sparse_csr(filename):\n",
    "    loader = np.load(filename)\n",
    "    return csr_matrix((  loader['data'], loader['indices'], loader['indptr']),\n",
    "                         shape = loader['shape'])"
   ]
  },
  {
   "cell_type": "code",
   "execution_count": 40,
   "metadata": {
    "collapsed": false
   },
   "outputs": [],
   "source": [
    "save_sparse_csr(\"../data/co-author-matrix.npz\",new_co_author_matrix)\n",
    "with open('../data/co-author-index.json', 'w') as f:\n",
    "    json.dump(new_aid2name, f, sort_keys=True, indent=4)"
   ]
  },
  {
   "cell_type": "code",
   "execution_count": 44,
   "metadata": {
    "collapsed": true
   },
   "outputs": [],
   "source": [
    "with open('../data/co-author-original-ids.json', 'w') as f:\n",
    "    json.dump(new_aid2dabid, f, sort_keys=True, indent=4)"
   ]
  },
  {
   "cell_type": "code",
   "execution_count": 41,
   "metadata": {
    "collapsed": false
   },
   "outputs": [
    {
     "data": {
      "text/plain": [
       "(74530, 74530)"
      ]
     },
     "execution_count": 41,
     "metadata": {},
     "output_type": "execute_result"
    }
   ],
   "source": [
    "new_co_author_matrix.shape"
   ]
  },
  {
   "cell_type": "code",
   "execution_count": null,
   "metadata": {
    "collapsed": true
   },
   "outputs": [],
   "source": []
  }
 ],
 "metadata": {
  "kernelspec": {
   "display_name": "Python 2",
   "language": "python",
   "name": "python2"
  },
  "language_info": {
   "codemirror_mode": {
    "name": "ipython",
    "version": 2
   },
   "file_extension": ".py",
   "mimetype": "text/x-python",
   "name": "python",
   "nbconvert_exporter": "python",
   "pygments_lexer": "ipython2",
   "version": "2.7.11"
  }
 },
 "nbformat": 4,
 "nbformat_minor": 0
}
